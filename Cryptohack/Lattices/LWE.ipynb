{
 "cells": [
  {
   "cell_type": "markdown",
   "metadata": {},
   "source": [
    "### LWE High Bits Message"
   ]
  },
  {
   "cell_type": "code",
   "execution_count": 6,
   "metadata": {
    "vscode": {
     "languageId": "python"
    }
   },
   "outputs": [
    {
     "name": "stdout",
     "output_type": "stream",
     "text": [
      "S =  (37821, 60163, 44036, 55478, 14920, 35881, 4499, 61110, 61717, 27795, 6916, 3387, 57519, 60720, 64134, 48598, 6479, 41596, 62087, 42802, 18101, 64542, 11889, 3430, 17269, 22989, 49646, 11432, 13259, 44588, 9190, 26589, 28149, 34976, 62106, 14516, 3039, 11913, 47109, 10290, 45455, 2618, 20566, 41238, 38574, 30225, 11787, 11292, 60211, 6930, 5265, 63008, 10890, 12710, 9919, 38276, 59720, 6891, 29629, 47276, 5908, 19639, 24300, 57245) \n",
      "\n",
      "A =  (8928, 10570, 39254, 29230, 24564, 34309, 2884, 21608, 14305, 19718, 49352, 15215, 49075, 30548, 41502, 39157, 44224, 42436, 44951, 55452, 58454, 41173, 29371, 26170, 49374, 25742, 49073, 56287, 5289, 3201, 64562, 47413, 22837, 46425, 57484, 61246, 14015, 64098, 16763, 44951, 26913, 40857, 48047, 53262, 63688, 46892, 3700, 52907, 14908, 60986, 13421, 13848, 57587, 62218, 18002, 2760, 63857, 26829, 57413, 43959, 55698, 15709, 51162, 60776)\n",
      "b =  60419\n"
     ]
    }
   ],
   "source": [
    "from sage.all import *\n",
    "# dimension\n",
    "n = 64\n",
    "# plaintext modulus\n",
    "p = 257\n",
    "# ciphertext modulus\n",
    "q = 0x10001\n",
    "# bound for error term\n",
    "error_bound = int(floor((q/p)/2))\n",
    "# message scaling factor\n",
    "delta = int(round(q/p))\n",
    "\n",
    "\n",
    "V = VectorSpace(GF(q), n)\n",
    "S = V.random_element()\n",
    "print(\"S = \", S, \"\\n\")\n",
    "\n",
    "m = 123\n",
    "\n",
    "A = V.random_element()\n",
    "error = randint(-error_bound, error_bound)\n",
    "b = A * S + m * delta + error\n",
    "\n",
    "print(\"A = \", A)\n",
    "print(\"b = \", b)\n",
    "\n",
    "\n"
   ]
  },
  {
   "cell_type": "code",
   "execution_count": 10,
   "metadata": {
    "vscode": {
     "languageId": "python"
    }
   },
   "outputs": [],
   "source": [
    "S =  vector([55542, 19411, 34770, 6739, 63198, 63821, 5900, 32164, 51223, 38979, 24459, 10936, 17256, 20215, 35814, 42905, 53656, 17000, 1834, 51682, 43780, 22391, 33012, 61667, 37447, 16404, 58991, 61772, 44888, 43199, 32039, 26885, 17206, 62186, 58387, 57048, 38393, 29306, 58001, 57199, 33472, 56572, 53429, 62593, 14134, 40522, 25106, 34325, 37646, 43688, 14259, 24197, 33427, 43977, 18322, 38877, 55093, 12466, 16869, 25413, 54773, 59532, 62694, 13948]) \n",
    "\n",
    "A =  vector([13759, 12750, 38163, 63722, 39130, 22935, 58866, 48803, 15933, 64995, 60517, 64302, 42432, 32000, 22058, 58123, 53993, 33790, 35783, 61333, 53431, 43016, 60795, 25781, 28091, 11212, 64592, 11385, 24690, 40658, 35307, 63583, 60365, 60359, 32568, 35417, 22078, 38207, 16331, 53636, 28734, 30436, 18170, 15939, 966, 48519, 41621, 36371, 41836, 4026, 33536, 57062, 52428, 59850, 476, 43354, 61614, 32243, 42518, 19733, 63464, 29357, 56039, 15013])\n",
    "b =  44007"
   ]
  },
  {
   "cell_type": "code",
   "execution_count": 12,
   "metadata": {
    "vscode": {
     "languageId": "python"
    }
   },
   "outputs": [
    {
     "data": {
      "text/plain": [
       "201"
      ]
     },
     "execution_count": 12,
     "metadata": {},
     "output_type": "execute_result"
    }
   ],
   "source": [
    "x=(b-A*S)%q\n",
    "m=round(x/delta)\n",
    "m"
   ]
  },
  {
   "cell_type": "markdown",
   "metadata": {},
   "source": [
    "### LWE Low Bits Message"
   ]
  },
  {
   "cell_type": "code",
   "execution_count": 13,
   "metadata": {
    "vscode": {
     "languageId": "python"
    }
   },
   "outputs": [
    {
     "name": "stdout",
     "output_type": "stream",
     "text": [
      "--2024-10-08 15:49:14--  https://cryptohack.org/static/challenges/lwe-low-bits_a2c45284086e181a601486fe22f873ff.sage\n",
      "Resolving cryptohack.org (cryptohack.org)... 178.62.74.206\n",
      "Connecting to cryptohack.org (cryptohack.org)|178.62.74.206|:443... connected.\n",
      "HTTP request sent, awaiting response... 200 OK\n",
      "Length: 346 [text/x-python]\n",
      "Saving to: ‘lwe-low-bits_a2c45284086e181a601486fe22f873ff.sage’\n",
      "\n",
      "lwe-low-bits_a2c452 100%[===================>]     346  --.-KB/s    in 0s      \n",
      "\n",
      "2024-10-08 15:49:15 (65.9 MB/s) - ‘lwe-low-bits_a2c45284086e181a601486fe22f873ff.sage’ saved [346/346]\n",
      "\n",
      "--2024-10-08 15:49:15--  https://cryptohack.org/static/challenges/output_9eb8e78124c8c48ec9eb687bf1d10a4e.txt\n",
      "Resolving cryptohack.org (cryptohack.org)... 178.62.74.206\n",
      "Connecting to cryptohack.org (cryptohack.org)|178.62.74.206|:443... connected.\n",
      "HTTP request sent, awaiting response... 200 OK\n",
      "Length: 900 [text/plain]\n",
      "Saving to: ‘output_9eb8e78124c8c48ec9eb687bf1d10a4e.txt’\n",
      "\n",
      "output_9eb8e78124c8 100%[===================>]     900  --.-KB/s    in 0s      \n",
      "\n",
      "2024-10-08 15:49:16 (923 MB/s) - ‘output_9eb8e78124c8c48ec9eb687bf1d10a4e.txt’ saved [900/900]\n",
      "\n"
     ]
    }
   ],
   "source": [
    "!wget https://cryptohack.org/static/challenges/lwe-low-bits_a2c45284086e181a601486fe22f873ff.sage\n",
    "!wget https://cryptohack.org/static/challenges/output_9eb8e78124c8c48ec9eb687bf1d10a4e.txt"
   ]
  },
  {
   "cell_type": "code",
   "execution_count": 17,
   "metadata": {
    "vscode": {
     "languageId": "python"
    }
   },
   "outputs": [
    {
     "name": "stdout",
     "output_type": "stream",
     "text": [
      "S =  (40799, 56195, 48561, 25685, 19664, 61627, 64470, 12777, 63115, 3107, 36964, 53387, 50655, 35153, 16307, 7794, 65512, 41689, 25022, 21621, 17046, 40620, 57753, 24288, 41571, 31687, 1672, 40732, 15047, 42038, 60114, 5977, 62338, 64037, 48835, 53291, 37699, 16345, 43176, 19118, 45938, 35685, 19004, 11996, 39403, 20539, 61726, 1913, 9781, 15259, 294, 36247, 47962, 37806, 47114, 52140, 54123, 37516, 34507, 37455, 61413, 44768, 30969, 23745) \n",
      "\n",
      "A =  (26304, 16243, 3368, 36109, 49956, 45169, 37703, 58804, 3162, 25642, 58093, 53520, 16905, 35863, 50723, 25426, 35560, 8234, 22993, 11068, 46613, 57507, 8171, 10890, 61922, 58459, 22877, 35097, 61313, 65386, 62931, 35522, 3272, 6046, 41588, 26579, 43081, 46524, 13041, 5482, 4102, 26918, 40879, 62610, 31135, 61351, 19949, 10839, 59619, 3738, 59928, 2890, 6925, 36640, 11771, 52339, 39122, 9677, 12746, 1291, 4689, 9535, 23853, 14984)\n",
      "b =  58535\n"
     ]
    }
   ],
   "source": [
    "# dimension\n",
    "n = 64\n",
    "# plaintext modulus\n",
    "p = 257\n",
    "# ciphertext modulus\n",
    "q = 0x10001\n",
    "# bound for error term\n",
    "error_bound = int(floor((q/p)/2))\n",
    "\n",
    "\n",
    "V = VectorSpace(GF(q), n)\n",
    "S = V.random_element()\n",
    "print(\"S = \", S, \"\\n\")\n",
    "\n",
    "m = 123\n",
    "\n",
    "A = V.random_element()\n",
    "error = randint(-error_bound, error_bound)\n",
    "b = A * S + error * p + m\n",
    "\n",
    "print(\"A = \", A)\n",
    "print(\"b = \", b)\n"
   ]
  },
  {
   "cell_type": "code",
   "execution_count": 22,
   "metadata": {
    "vscode": {
     "languageId": "python"
    }
   },
   "outputs": [],
   "source": [
    "S =  vector([10082, 48747, 17960, 55638, 37012, 51876, 10128, 37750, 7608, 58952, 33296, 25463, 38900, 85, 65248, 42153, 44966, 31594, 40676, 56828, 30325, 38502, 65083, 7497, 2667, 54022, 24029, 32162, 57267, 12253, 6668, 5181, 14906, 51655, 61347, 4722, 22227, 23606, 63183, 52860, 1670, 31085, 42633, 47197, 7255, 16150, 9574, 62956, 26742, 57998, 49467, 31224, 60073, 12730, 41419, 41042, 53032, 16339, 32913, 16351, 34283, 47845, 3617, 35718]) \n",
    "\n",
    "A =  vector([53751, 21252, 55954, 16345, 60990, 2822, 56279, 37048, 36153, 52141, 2121, 56565, 48112, 43755, 12951, 22539, 29478, 28421, 62175, 10265, 36378, 21305, 42402, 26359, 939, 60690, 1161, 65097, 34505, 19777, 29652, 42868, 49148, 38296, 31916, 25606, 18700, 12655, 35631, 64674, 29018, 21021, 14865, 40196, 14036, 40278, 37209, 35585, 34344, 33030, 285, 58536, 56121, 40899, 24262, 62326, 57433, 5765, 24456, 28859, 45170, 14799, 21567, 55484])\n",
    "b =  11507"
   ]
  },
  {
   "cell_type": "code",
   "execution_count": 25,
   "metadata": {
    "vscode": {
     "languageId": "python"
    }
   },
   "outputs": [
    {
     "data": {
      "text/html": [
       "<html>\\(\\displaystyle 147\\)</html>"
      ],
      "text/latex": [
       "$\\displaystyle 147$"
      ],
      "text/plain": [
       "147"
      ]
     },
     "execution_count": 25,
     "metadata": {},
     "output_type": "execute_result"
    }
   ],
   "source": [
    "%display latex\n",
    "m = (b - A * S) %q\n",
    "if m > q/2:\n",
    "    m = m - q\n",
    "m=m%p\n",
    "m"
   ]
  },
  {
   "cell_type": "markdown",
   "metadata": {},
   "source": [
    "### Noise Free"
   ]
  },
  {
   "cell_type": "code",
   "execution_count": 26,
   "metadata": {
    "vscode": {
     "languageId": "python"
    }
   },
   "outputs": [
    {
     "name": "stdout",
     "output_type": "stream",
     "text": [
      "--2024-10-08 16:03:43--  https://cryptohack.org/static/challenges/13411_65376bbf8bb3f8b630960f62ac39f614.py\n",
      "Resolving cryptohack.org (cryptohack.org)... 178.62.74.206\n",
      "Connecting to cryptohack.org (cryptohack.org)|178.62.74.206|:443... connected.\n",
      "HTTP request sent, awaiting response... 200 OK\n",
      "Length: 1800 (1.8K) [text/x-python]\n",
      "Saving to: ‘13411_65376bbf8bb3f8b630960f62ac39f614.py’\n",
      "\n",
      "13411_65376bbf8bb3f 100%[===================>]   1.76K  --.-KB/s    in 0s      \n",
      "\n",
      "2024-10-08 16:03:45 (484 MB/s) - ‘13411_65376bbf8bb3f8b630960f62ac39f614.py’ saved [1800/1800]\n",
      "\n"
     ]
    }
   ],
   "source": [
    "!wget https://cryptohack.org/static/challenges/13411_65376bbf8bb3f8b630960f62ac39f614.py"
   ]
  },
  {
   "cell_type": "code",
   "execution_count": 27,
   "metadata": {
    "vscode": {
     "languageId": "python"
    }
   },
   "outputs": [
    {
     "name": "stdout",
     "output_type": "stream",
     "text": [
      "--2024-10-08 16:06:39--  https://cryptohack.org/static/listener.py\n",
      "Resolving cryptohack.org (cryptohack.org)... 178.62.74.206\n",
      "Connecting to cryptohack.org (cryptohack.org)|178.62.74.206|:443... connected.\n",
      "HTTP request sent, awaiting response... 200 OK\n",
      "Length: 4829 (4.7K) [text/x-python]\n",
      "Saving to: ‘listener.py’\n",
      "\n",
      "listener.py         100%[===================>]   4.72K  --.-KB/s    in 0s      \n",
      "\n",
      "2024-10-08 16:06:40 (2.87 GB/s) - ‘listener.py’ saved [4829/4829]\n",
      "\n"
     ]
    }
   ],
   "source": [
    "!mkdir utils\n",
    "!wget https://cryptohack.org/static/listener.py\n",
    "!mv listener.py utils"
   ]
  },
  {
   "cell_type": "code",
   "execution_count": null,
   "metadata": {
    "vscode": {
     "languageId": "python"
    }
   },
   "outputs": [],
   "source": [
    "from utils import listener\n",
    "from sage.all import *\n",
    "\n",
    "\n",
    "FLAG = b\"crypto{????????????????????????}\"\n",
    "\n",
    "# dimension\n",
    "n = 64\n",
    "# plaintext modulus\n",
    "p = 257\n",
    "# ciphertext modulus\n",
    "q = 0x10001\n",
    "\n",
    "V = VectorSpace(GF(q), n)\n",
    "S = V.random_element()\n",
    "\n",
    "def encrypt(m):\n",
    "    A = V.random_element()\n",
    "    b = A * S + m\n",
    "    return A, b\n",
    "\n",
    "\n",
    "class Challenge:\n",
    "    def __init__(self):\n",
    "        self.before_input = \"Would you like to encrypt your own message, or see an encryption of a character in the flag?\\n\"\n",
    "\n",
    "    def challenge(self, your_input):\n",
    "        if 'option' not in your_input:\n",
    "            return {'error': 'You must specify an option'}\n",
    "\n",
    "        if your_input['option'] == 'get_flag':\n",
    "            if \"index\" not in your_input:\n",
    "                return {\"error\": \"You must provide an index\"}\n",
    "                self.exit = True\n",
    "\n",
    "            index = int(your_input[\"index\"])\n",
    "            if index < 0 or index >= len(FLAG) :\n",
    "                return {\"error\": f\"index must be between 0 and {len(FLAG) - 1}\"}\n",
    "                self.exit = True\n",
    "\n",
    "            A, b = encrypt(FLAG[index])\n",
    "            return {\"A\": str(list(A)), \"b\": str(int(b))}\n",
    "\n",
    "        elif your_input['option'] == 'encrypt':\n",
    "            if \"message\" not in your_input:\n",
    "                return {\"error\": \"You must provide a message\"}\n",
    "                self.exit = True\n",
    "\n",
    "            message = int(your_input[\"message\"])\n",
    "            if message < 0 or message >= p:\n",
    "                return {\"error\": f\"message must be between 0 and {p - 1}\"}\n",
    "                self.exit = True\n",
    "\n",
    "            A, b = encrypt(message)\n",
    "            return {\"A\": str(list(A)), \"b\": str(int(b))}\n",
    "\n",
    "        return {'error': 'Unknown action'}\n",
    "\n",
    "\n",
    "import builtins; builtins.Challenge = Challenge # hack to enable challenge to be run locally, see https://cryptohack.org/faq/#listener\n",
    "listener.start_server(port=13411)\n"
   ]
  },
  {
   "cell_type": "code",
   "execution_count": 47,
   "metadata": {
    "vscode": {
     "languageId": "python"
    }
   },
   "outputs": [
    {
     "name": "stderr",
     "output_type": "stream",
     "text": [
      "/tmp/ipykernel_147284/2753194326.py:8: BytesWarning: Text is not bytes; assuming ASCII, no guarantees. See https://docs.pwntools.com/#bytes\n",
      "  r.recvuntil(\"Would you like to encrypt your own message, or see an encryption of a character in the flag?\\n\")\n"
     ]
    },
    {
     "name": "stdout",
     "output_type": "stream",
     "text": [
      "(28924, 19259, 40669, 16265, 14920, 46091, 34470, 8777, 19006, 39334, 23279, 27330, 139, 7986, 8572, 42373, 32740, 40551, 9613, 411, 18081, 18551, 8578, 12283, 45153, 7866, 47007, 58893, 13554, 8994, 35290, 25854, 60864, 52817, 20198, 22381, 20184, 35818, 30863, 62220, 33197, 11610, 38757, 44236, 22636, 6372, 17858, 10883, 34428, 4762, 63451, 47349, 35689, 62122, 36695, 50157, 61149, 52436, 35749, 20080, 49952, 14938, 54010, 13734)\n",
      "c\n",
      "cr\n",
      "cry\n",
      "cryp\n",
      "crypt\n",
      "crypto\n",
      "crypto{\n",
      "crypto{l\n",
      "crypto{li\n",
      "crypto{lin\n",
      "crypto{line\n",
      "crypto{linea\n",
      "crypto{linear\n",
      "crypto{linear_\n",
      "crypto{linear_a\n",
      "crypto{linear_al\n",
      "crypto{linear_alg\n",
      "crypto{linear_alge\n",
      "crypto{linear_algeb\n",
      "crypto{linear_algebr\n",
      "crypto{linear_algebra\n",
      "crypto{linear_algebra_\n",
      "crypto{linear_algebra_i\n",
      "crypto{linear_algebra_is\n",
      "crypto{linear_algebra_is_\n",
      "crypto{linear_algebra_is_u\n",
      "crypto{linear_algebra_is_us\n",
      "crypto{linear_algebra_is_use\n",
      "crypto{linear_algebra_is_usef\n",
      "crypto{linear_algebra_is_usefu\n",
      "crypto{linear_algebra_is_useful\n",
      "crypto{linear_algebra_is_useful}\n"
     ]
    }
   ],
   "source": [
    "import pwn\n",
    "import json\n",
    "p = 257\n",
    "q = 0x10001\n",
    "pwn.context.log_level = 'error'\n",
    "# socket.cryptohack.org 13411\n",
    "r = pwn.remote('socket.cryptohack.org', 13411)\n",
    "r.recvuntil(\"Would you like to encrypt your own message, or see an encryption of a character in the flag?\\n\")\n",
    "\n",
    "A = []\n",
    "for i in range(64):\n",
    "    r.sendline(b'{\"option\":\"encrypt\", \"message\":10}')\n",
    "    msg = r.recvline().decode()\n",
    "    msg = json.loads(msg)\n",
    "    A.append(eval(msg[\"A\"])+[int(msg[\"b\"])-10])\n",
    "\n",
    "A = Matrix(GF(q), A)\n",
    "A=A.rref()\n",
    "S=[]\n",
    "for i in range(A.nrows()):\n",
    "    S.append(A[i][-1])\n",
    "\n",
    "S=vector(S)\n",
    "\n",
    "print(S)\n",
    "flag = \"\"\n",
    "for i in range(32):\n",
    "    r.sendline(b'{\"option\":\"get_flag\", \"index\":'+str(i).encode()+b'}')\n",
    "    msg = r.recvline().decode()\n",
    "    msg = json.loads(msg)\n",
    "    A = eval(msg[\"A\"])\n",
    "    A=vector(A)\n",
    "    b = int(msg[\"b\"])\n",
    "    x=int((b-A*S)%q)\n",
    "    if x > q/2:\n",
    "        x = x - q\n",
    "    m=x%p\n",
    "    flag += chr(m)\n",
    "    print(flag)"
   ]
  }
 ],
 "metadata": {
  "kernelspec": {
   "display_name": "SageMath 10.4",
   "language": "sage",
   "name": "sagemath"
  },
  "language_info": {
   "codemirror_mode": {
    "name": "ipython",
    "version": 3
   },
   "file_extension": ".py",
   "mimetype": "text/x-python",
   "name": "sage",
   "nbconvert_exporter": "python",
   "pygments_lexer": "ipython3",
   "version": "3.10.12"
  }
 },
 "nbformat": 4,
 "nbformat_minor": 2
}
