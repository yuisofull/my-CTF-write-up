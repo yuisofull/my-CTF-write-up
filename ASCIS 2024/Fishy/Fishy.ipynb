{
 "cells": [
  {
   "cell_type": "code",
   "execution_count": 93,
   "metadata": {
    "vscode": {
     "languageId": "python"
    }
   },
   "outputs": [],
   "source": [
    "from hashlib import sha256\n",
    "from random import SystemRandom\n",
    "from Crypto.Cipher import AES\n",
    "from Crypto.Util.Padding import pad, unpad\n",
    "from sage.all import *\n",
    "\n",
    "n = 100\n",
    "m = 100\n",
    "q = 7\n",
    "FF = GF(q)\n",
    "\n",
    "def apply1(F, v):\n",
    "    out = []\n",
    "    for i in range(m):\n",
    "        out.append((v.T * F[i] * v)[0, 0])\n",
    "    return matrix(FF, out).T\n",
    "\n",
    "def apply2(F, t, s):\n",
    "    out = []\n",
    "    for i in range(m):\n",
    "        out.append((t.T * (F[i] + F[i].T) * s)[0, 0])\n",
    "    return matrix(FF, out).T\n",
    "\n",
    "def gen(v, s, F):\n",
    "    output = []\n",
    "    for _ in range(9):\n",
    "        t = matrix(FF, [FF.random_element() for _ in range(n)]).T # random 100x1\n",
    "        com = apply1(F, t)\n",
    "        verif = apply2(F, t, s)\n",
    "        a = sha256(bytes([int(i) for i in com.list() + v.list() + verif.list()])).digest()[0] % q\n",
    "        output.append((com, t - a * s, verif))\n",
    "    return output\n",
    "\n",
    "def encrypt_flag(s):\n",
    "    # flag = open(\"flag.txt\", \"rb\").read()\n",
    "    flag = b\"flag{this_is_a_fake_flag}\"\n",
    "    key = sha256(str([int(i) for i in s.list()]).encode()).digest()\n",
    "    cipher = AES.new(key, AES.MODE_CBC)\n",
    "    ct = cipher.encrypt(pad(flag, 16))\n",
    "    return ct, cipher.iv\n",
    "\n",
    "# rng = SystemRandom()\n",
    "\n",
    "# seed = [rng.randint(0, 255) for _ in range(64)]\n",
    "# gen_seed = bytes(seed) # random 64 255 bits seed\n",
    "\n",
    "# F = []\n",
    "# for i in range(m):\n",
    "#     cur = []\n",
    "#     for j in range(n):\n",
    "#         cur.append([])\n",
    "#         for k in range(n):\n",
    "#             cur[-1].append(sha256(gen_seed).digest()[0] % q)\n",
    "#             gen_seed = sha256(gen_seed).digest()\n",
    "#     F.append(matrix(FF, n, n, cur))\n",
    "\n",
    "# s = random_matrix(FF, n, 1)\t\n",
    "# # F: given\n",
    "# # s: random\n",
    "\n",
    "# v = apply1(F, s) # vector 100x1\n",
    "# output = gen(v, s, F)\n",
    "\n",
    "# coms = [pi[0].list() for pi in output]\n",
    "# tass = [pi[1].list() for pi in output]\n",
    "# verifs = [pi[2].list() for pi in output]\n",
    "\n",
    "# ct, iv = encrypt_flag(s)\n",
    "\n",
    "# f = open(\"output.txt\", \"w\")\n",
    "# f.write(f\"{seed = }\\n\")\n",
    "# f.write(f\"v = {[int(i) for i in v.list()]}\\n\")\n",
    "# f.write(f\"{coms = }\\n\")\n",
    "# f.write(f\"{tass = }\\n\")\n",
    "# f.write(f\"{verifs = }\\n\")\n",
    "# f.write(f\"{ct = }\\n\")\n",
    "# f.write(f\"{iv = }\")\n",
    "# f.close()"
   ]
  },
  {
   "cell_type": "code",
   "execution_count": 94,
   "metadata": {
    "vscode": {
     "languageId": "python"
    }
   },
   "outputs": [],
   "source": [
    "seed = [6, 80, 158, 13, 171, 216, 164, 5, 73, 233, 6, 213, 63, 162, 90, 63, 208, 245, 101, 11, 120, 95, 78, 145, 159, 108, 105, 252, 241, 124, 92, 120, 18, 177, 243, 237, 132, 103, 237, 11, 75, 141, 172, 208, 155, 47, 111, 59, 118, 209, 169, 81, 141, 236, 104, 131, 104, 194, 246, 232, 14, 246, 68, 172]\n",
    "v = [3, 0, 2, 4, 6, 4, 4, 1, 0, 6, 4, 1, 6, 0, 1, 6, 4, 4, 4, 1, 0, 5, 4, 5, 6, 2, 5, 5, 1, 0, 2, 6, 3, 0, 3, 0, 0, 0, 2, 2, 2, 6, 4, 6, 6, 3, 2, 3, 1, 2, 3, 0, 6, 4, 3, 0, 0, 6, 2, 1, 1, 1, 3, 5, 5, 5, 0, 4, 1, 5, 2, 1, 3, 2, 1, 0, 6, 0, 6, 3, 3, 3, 5, 0, 4, 1, 0, 3, 3, 6, 1, 4, 4, 3, 6, 1, 1, 3, 3, 0]\n",
    "coms = [[3, 1, 6, 1, 4, 6, 4, 1, 3, 5, 3, 1, 1, 6, 4, 0, 3, 5, 6, 3, 4, 4, 6, 4, 0, 1, 3, 5, 3, 0, 6, 1, 4, 3, 6, 6, 1, 2, 6, 2, 6, 4, 1, 4, 0, 5, 5, 3, 3, 5, 3, 1, 6, 0, 5, 1, 3, 6, 5, 3, 4, 5, 5, 4, 2, 3, 6, 4, 5, 5, 3, 4, 4, 0, 4, 3, 5, 1, 1, 6, 2, 5, 3, 5, 6, 6, 1, 3, 5, 2, 1, 1, 6, 5, 6, 4, 1, 5, 5, 0], [2, 3, 1, 0, 2, 3, 6, 2, 2, 6, 4, 0, 2, 6, 2, 5, 4, 0, 4, 1, 6, 4, 3, 4, 4, 1, 6, 3, 0, 0, 5, 0, 5, 5, 5, 5, 3, 3, 6, 3, 0, 4, 4, 2, 1, 0, 6, 0, 3, 0, 1, 1, 1, 3, 4, 4, 0, 3, 1, 5, 0, 0, 5, 0, 2, 2, 0, 5, 5, 2, 3, 4, 3, 6, 3, 3, 1, 0, 0, 3, 5, 6, 4, 2, 5, 0, 1, 5, 6, 1, 4, 2, 3, 0, 6, 5, 1, 5, 1, 4], [2, 4, 5, 4, 1, 1, 4, 5, 5, 4, 3, 1, 4, 3, 2, 3, 2, 4, 4, 2, 3, 0, 4, 1, 0, 6, 1, 6, 2, 6, 6, 3, 4, 0, 6, 3, 0, 0, 6, 3, 4, 4, 2, 4, 0, 5, 1, 4, 4, 6, 6, 3, 1, 0, 3, 0, 0, 1, 5, 0, 6, 0, 1, 3, 4, 0, 2, 6, 1, 0, 4, 1, 2, 3, 0, 2, 0, 3, 0, 2, 4, 6, 1, 6, 0, 1, 5, 5, 3, 3, 0, 4, 1, 6, 2, 4, 1, 4, 4, 0], [3, 5, 5, 0, 6, 0, 0, 5, 0, 6, 6, 0, 6, 0, 6, 3, 3, 4, 1, 3, 5, 2, 3, 6, 1, 0, 3, 5, 4, 3, 0, 5, 1, 2, 4, 0, 3, 4, 0, 0, 6, 0, 1, 5, 1, 5, 4, 1, 6, 6, 0, 4, 6, 1, 4, 2, 2, 4, 0, 1, 1, 1, 3, 5, 2, 5, 4, 4, 4, 3, 0, 2, 3, 5, 4, 5, 4, 6, 0, 2, 1, 2, 2, 6, 6, 5, 1, 0, 3, 0, 3, 3, 1, 1, 2, 5, 2, 4, 6, 0], [2, 6, 5, 6, 1, 6, 3, 4, 6, 1, 2, 5, 2, 3, 1, 1, 3, 4, 6, 5, 2, 4, 0, 0, 0, 1, 3, 2, 6, 5, 5, 1, 2, 6, 0, 3, 2, 1, 4, 0, 5, 3, 4, 6, 3, 1, 5, 5, 6, 6, 3, 0, 0, 5, 3, 3, 4, 4, 5, 1, 1, 0, 5, 6, 2, 6, 3, 0, 5, 2, 3, 2, 4, 3, 4, 4, 3, 3, 2, 4, 6, 0, 6, 5, 6, 1, 2, 3, 5, 1, 5, 3, 4, 6, 3, 6, 3, 1, 2, 6], [2, 0, 1, 2, 6, 0, 5, 6, 6, 3, 2, 6, 1, 1, 6, 5, 2, 4, 4, 2, 2, 2, 0, 6, 1, 5, 1, 1, 1, 6, 6, 5, 4, 3, 4, 5, 4, 0, 0, 4, 4, 4, 1, 0, 2, 0, 4, 5, 6, 5, 4, 2, 1, 0, 0, 4, 1, 4, 3, 6, 6, 1, 0, 5, 3, 4, 0, 5, 6, 6, 2, 4, 3, 3, 6, 6, 1, 3, 4, 3, 1, 4, 4, 5, 5, 3, 6, 5, 2, 3, 1, 2, 4, 5, 6, 3, 5, 4, 6, 3], [3, 0, 1, 4, 0, 4, 5, 3, 4, 2, 4, 6, 0, 2, 1, 5, 4, 1, 5, 3, 0, 2, 2, 0, 0, 4, 3, 2, 3, 5, 6, 0, 6, 3, 1, 4, 2, 6, 5, 0, 6, 3, 3, 2, 2, 4, 1, 3, 4, 0, 2, 5, 1, 0, 5, 1, 2, 5, 2, 3, 4, 4, 0, 0, 1, 4, 0, 1, 2, 2, 5, 2, 5, 0, 3, 4, 2, 6, 4, 5, 0, 2, 0, 6, 1, 4, 2, 2, 3, 3, 2, 4, 0, 1, 0, 2, 1, 2, 5, 3], [2, 1, 1, 6, 5, 2, 4, 6, 6, 5, 2, 3, 1, 5, 4, 2, 1, 4, 6, 1, 6, 4, 0, 2, 4, 5, 5, 2, 1, 6, 0, 6, 3, 3, 5, 5, 4, 3, 6, 2, 2, 5, 3, 4, 0, 1, 4, 4, 5, 3, 3, 1, 3, 5, 0, 4, 5, 3, 1, 6, 2, 6, 2, 3, 4, 4, 2, 6, 5, 1, 6, 0, 0, 5, 6, 6, 4, 4, 3, 4, 5, 4, 5, 5, 6, 0, 2, 0, 6, 1, 5, 5, 5, 5, 4, 4, 3, 1, 1, 6], [5, 4, 6, 1, 3, 2, 3, 3, 6, 4, 4, 4, 6, 2, 3, 0, 1, 3, 0, 4, 0, 2, 4, 6, 4, 0, 1, 3, 5, 3, 4, 0, 4, 4, 0, 1, 2, 5, 3, 3, 4, 3, 5, 6, 5, 2, 4, 5, 2, 3, 3, 3, 3, 2, 3, 3, 3, 1, 2, 0, 4, 2, 0, 6, 5, 1, 4, 2, 5, 4, 0, 3, 1, 2, 1, 4, 6, 0, 1, 4, 5, 3, 5, 6, 4, 6, 6, 6, 1, 4, 6, 1, 5, 6, 3, 3, 3, 0, 1, 2]]\n",
    "tass = [[1, 4, 0, 6, 1, 2, 1, 3, 5, 5, 1, 1, 6, 4, 3, 5, 5, 3, 3, 2, 4, 6, 1, 3, 0, 1, 2, 5, 4, 4, 5, 4, 2, 3, 0, 6, 1, 3, 1, 4, 1, 3, 6, 6, 6, 2, 2, 3, 2, 3, 1, 2, 6, 3, 5, 1, 5, 4, 0, 0, 4, 2, 2, 4, 1, 5, 5, 2, 1, 5, 5, 2, 1, 1, 0, 5, 6, 2, 6, 4, 3, 2, 5, 5, 0, 6, 0, 6, 5, 0, 0, 4, 6, 0, 3, 0, 5, 5, 4, 0], [4, 4, 6, 5, 0, 3, 4, 4, 4, 2, 0, 1, 0, 5, 6, 2, 5, 4, 0, 2, 4, 6, 5, 1, 1, 2, 6, 1, 2, 3, 5, 3, 0, 3, 4, 1, 3, 3, 1, 6, 2, 3, 4, 2, 2, 2, 3, 0, 4, 6, 3, 1, 6, 0, 0, 6, 1, 4, 3, 4, 3, 2, 6, 0, 3, 4, 1, 2, 4, 4, 0, 5, 1, 1, 0, 0, 5, 1, 1, 1, 1, 2, 3, 1, 5, 4, 1, 0, 0, 3, 2, 3, 0, 4, 5, 6, 0, 6, 1, 0], [1, 1, 4, 5, 2, 1, 4, 6, 5, 1, 3, 1, 5, 4, 6, 3, 0, 6, 1, 6, 5, 0, 4, 6, 1, 6, 5, 5, 6, 1, 0, 5, 6, 6, 6, 3, 0, 0, 1, 5, 0, 6, 1, 5, 4, 5, 1, 5, 5, 2, 4, 3, 1, 0, 5, 0, 6, 3, 6, 6, 6, 1, 0, 1, 5, 1, 5, 4, 1, 6, 5, 6, 2, 0, 6, 5, 5, 2, 1, 3, 0, 4, 2, 1, 5, 6, 5, 3, 3, 1, 2, 3, 3, 5, 0, 3, 3, 2, 5, 2], [6, 0, 1, 1, 4, 5, 1, 5, 2, 1, 5, 0, 0, 5, 4, 0, 2, 5, 1, 2, 3, 6, 2, 4, 3, 4, 1, 4, 4, 2, 2, 2, 3, 1, 4, 0, 1, 5, 0, 2, 4, 2, 3, 4, 4, 6, 6, 1, 3, 4, 6, 2, 6, 3, 6, 5, 2, 1, 3, 3, 3, 4, 6, 0, 5, 6, 6, 2, 4, 5, 3, 5, 6, 2, 2, 5, 2, 1, 4, 6, 5, 1, 6, 4, 5, 5, 6, 0, 6, 2, 1, 5, 0, 0, 4, 4, 6, 0, 0, 5], [4, 0, 0, 0, 6, 0, 2, 1, 1, 0, 4, 5, 2, 4, 3, 2, 1, 6, 0, 6, 4, 5, 3, 1, 1, 4, 0, 5, 4, 4, 6, 4, 1, 1, 6, 3, 0, 4, 4, 2, 6, 0, 2, 3, 4, 6, 0, 3, 0, 3, 5, 2, 2, 2, 4, 4, 1, 2, 1, 1, 0, 2, 5, 4, 2, 3, 0, 0, 6, 1, 5, 5, 5, 3, 5, 4, 6, 2, 2, 0, 4, 3, 1, 3, 3, 5, 4, 0, 5, 6, 3, 3, 3, 5, 4, 6, 1, 4, 0, 2], [1, 6, 1, 0, 0, 2, 4, 0, 0, 1, 1, 0, 2, 3, 4, 5, 5, 0, 1, 5, 2, 4, 6, 6, 3, 5, 1, 6, 2, 1, 6, 4, 5, 0, 4, 0, 5, 0, 5, 4, 6, 3, 6, 0, 6, 0, 2, 6, 1, 1, 6, 4, 2, 6, 1, 4, 6, 0, 0, 2, 1, 3, 2, 1, 5, 1, 5, 3, 6, 2, 5, 1, 1, 3, 6, 5, 4, 1, 2, 5, 3, 4, 3, 6, 2, 2, 0, 4, 4, 5, 3, 2, 1, 6, 1, 3, 0, 0, 1, 2], [3, 0, 0, 6, 3, 3, 0, 1, 1, 4, 4, 4, 0, 1, 4, 6, 5, 4, 3, 3, 0, 5, 1, 2, 1, 5, 5, 3, 0, 0, 0, 6, 1, 2, 0, 3, 1, 4, 3, 3, 3, 3, 5, 5, 2, 2, 6, 4, 4, 0, 5, 6, 2, 2, 1, 0, 5, 4, 0, 1, 2, 2, 2, 6, 6, 6, 0, 4, 1, 6, 1, 5, 6, 3, 4, 6, 4, 2, 1, 5, 5, 6, 3, 6, 5, 3, 5, 2, 6, 5, 3, 2, 2, 2, 3, 2, 2, 2, 3, 1], [6, 0, 4, 6, 1, 6, 4, 1, 6, 4, 0, 1, 6, 5, 4, 3, 5, 6, 4, 5, 5, 5, 5, 4, 2, 0, 6, 6, 6, 5, 4, 3, 5, 1, 6, 6, 1, 4, 1, 4, 4, 2, 2, 1, 3, 6, 3, 2, 5, 1, 1, 2, 2, 0, 3, 1, 3, 6, 3, 1, 4, 0, 5, 5, 3, 3, 3, 2, 6, 0, 5, 0, 3, 1, 2, 6, 3, 5, 2, 4, 2, 1, 2, 2, 4, 1, 5, 4, 0, 2, 3, 0, 2, 0, 5, 4, 2, 4, 6, 1], [6, 6, 1, 5, 0, 4, 0, 3, 2, 5, 1, 0, 3, 3, 5, 1, 1, 1, 3, 3, 1, 4, 5, 4, 1, 2, 5, 5, 0, 5, 5, 0, 0, 4, 4, 5, 5, 5, 1, 0, 4, 0, 5, 6, 2, 5, 3, 5, 0, 2, 1, 4, 0, 1, 5, 2, 1, 0, 3, 0, 5, 6, 6, 2, 5, 3, 3, 3, 3, 1, 5, 4, 4, 3, 6, 3, 3, 6, 1, 6, 5, 4, 0, 5, 5, 4, 0, 0, 3, 4, 0, 1, 1, 4, 4, 1, 4, 2, 3, 0]]\n",
    "verifs = [[3, 4, 6, 6, 2, 0, 2, 1, 4, 0, 5, 4, 1, 2, 4, 0, 3, 4, 3, 5, 6, 4, 3, 3, 4, 2, 0, 1, 4, 3, 6, 1, 2, 6, 5, 4, 3, 4, 3, 0, 4, 2, 0, 4, 1, 1, 3, 3, 1, 4, 2, 3, 6, 4, 3, 0, 0, 1, 5, 0, 0, 1, 1, 5, 5, 4, 4, 0, 4, 6, 4, 1, 1, 5, 5, 1, 1, 0, 2, 3, 4, 1, 6, 0, 4, 6, 5, 5, 5, 1, 6, 0, 1, 6, 2, 2, 0, 6, 3, 4], [0, 3, 4, 1, 1, 0, 2, 5, 5, 3, 2, 2, 2, 2, 3, 4, 5, 0, 0, 6, 6, 1, 2, 4, 2, 2, 5, 2, 0, 2, 5, 2, 4, 6, 3, 3, 4, 2, 0, 3, 2, 5, 1, 6, 1, 0, 3, 3, 5, 5, 6, 2, 1, 5, 5, 1, 4, 3, 5, 1, 6, 4, 4, 5, 0, 6, 1, 1, 1, 0, 5, 4, 6, 3, 5, 1, 6, 0, 6, 5, 2, 0, 0, 2, 0, 1, 3, 4, 3, 6, 4, 6, 3, 3, 5, 5, 6, 2, 1, 3], [3, 1, 3, 5, 4, 0, 6, 5, 3, 6, 5, 1, 1, 4, 5, 3, 2, 1, 4, 5, 2, 4, 3, 5, 3, 5, 5, 0, 5, 0, 3, 1, 4, 3, 1, 4, 3, 1, 1, 6, 3, 5, 6, 5, 4, 5, 4, 5, 3, 0, 4, 5, 2, 6, 5, 0, 5, 3, 2, 6, 3, 6, 3, 6, 4, 2, 0, 1, 2, 6, 5, 3, 6, 2, 3, 1, 6, 4, 6, 2, 1, 3, 3, 6, 4, 1, 2, 2, 6, 2, 3, 0, 0, 4, 2, 1, 5, 1, 3, 4], [4, 0, 4, 4, 0, 6, 6, 5, 2, 6, 5, 1, 0, 5, 3, 3, 1, 6, 5, 2, 5, 0, 6, 6, 6, 1, 5, 3, 5, 5, 0, 2, 4, 1, 5, 0, 4, 0, 5, 0, 6, 5, 3, 0, 1, 5, 2, 1, 6, 2, 3, 4, 4, 6, 5, 1, 0, 1, 0, 2, 6, 5, 4, 4, 1, 1, 6, 2, 5, 0, 5, 2, 6, 4, 3, 0, 4, 2, 4, 3, 2, 6, 1, 6, 5, 5, 4, 2, 2, 6, 6, 6, 2, 2, 0, 5, 1, 6, 6, 0], [1, 6, 1, 6, 0, 0, 4, 6, 0, 0, 1, 5, 2, 0, 3, 1, 2, 1, 1, 0, 5, 1, 0, 6, 5, 6, 1, 0, 2, 0, 3, 3, 1, 2, 3, 6, 6, 6, 2, 0, 6, 3, 1, 6, 6, 3, 4, 1, 2, 0, 5, 1, 6, 1, 2, 2, 2, 6, 0, 4, 4, 1, 2, 1, 0, 4, 5, 6, 1, 5, 4, 6, 5, 2, 3, 0, 2, 1, 3, 6, 2, 0, 3, 5, 6, 1, 6, 1, 2, 3, 4, 6, 3, 6, 0, 6, 6, 0, 5, 6], [6, 5, 4, 2, 5, 6, 5, 6, 1, 4, 2, 0, 6, 1, 6, 5, 3, 6, 1, 6, 1, 2, 3, 0, 0, 5, 5, 1, 6, 1, 1, 0, 2, 1, 3, 5, 5, 1, 0, 0, 5, 5, 0, 6, 6, 4, 3, 5, 3, 3, 1, 1, 6, 4, 1, 6, 1, 1, 6, 6, 3, 3, 0, 4, 3, 5, 5, 4, 5, 5, 3, 5, 2, 5, 5, 5, 4, 6, 2, 3, 3, 1, 1, 6, 4, 6, 0, 5, 6, 0, 6, 3, 6, 4, 0, 0, 2, 2, 1, 2], [3, 5, 5, 1, 5, 1, 4, 2, 0, 2, 3, 2, 6, 0, 2, 2, 5, 6, 2, 0, 0, 6, 5, 3, 4, 2, 4, 2, 4, 3, 1, 0, 6, 0, 5, 2, 1, 1, 3, 3, 5, 4, 5, 6, 6, 2, 4, 1, 1, 2, 4, 5, 2, 3, 4, 2, 3, 5, 1, 6, 6, 4, 4, 3, 4, 0, 1, 5, 0, 1, 0, 6, 2, 1, 1, 3, 4, 1, 4, 3, 5, 6, 3, 0, 5, 0, 3, 3, 3, 3, 4, 4, 5, 5, 0, 0, 6, 2, 1, 6], [6, 2, 3, 0, 3, 3, 3, 0, 5, 3, 1, 5, 0, 2, 3, 0, 2, 2, 5, 5, 6, 5, 1, 3, 4, 2, 0, 2, 3, 4, 1, 0, 3, 2, 4, 5, 3, 4, 2, 6, 6, 1, 2, 4, 5, 3, 1, 4, 3, 4, 5, 1, 3, 4, 5, 1, 1, 6, 6, 1, 0, 1, 5, 3, 3, 4, 5, 4, 0, 5, 6, 4, 4, 0, 2, 5, 5, 2, 1, 4, 6, 3, 3, 3, 2, 5, 1, 6, 5, 3, 1, 4, 6, 3, 1, 2, 5, 1, 5, 1], [6, 1, 5, 3, 2, 3, 5, 3, 5, 2, 1, 0, 1, 2, 2, 4, 4, 1, 6, 2, 5, 0, 6, 4, 6, 5, 6, 0, 6, 5, 4, 4, 5, 4, 3, 1, 1, 1, 0, 2, 3, 0, 6, 2, 4, 0, 6, 1, 6, 5, 5, 2, 6, 3, 4, 2, 5, 0, 5, 5, 5, 0, 6, 3, 3, 2, 5, 1, 1, 4, 4, 1, 5, 1, 6, 0, 5, 3, 6, 4, 2, 1, 0, 0, 4, 2, 3, 5, 3, 5, 1, 3, 5, 3, 5, 6, 4, 0, 0, 4]]\n",
    "ct = b'\\xf7\\xfd\\thn\\xc0=\"\\xed\\x15\\xa4\\x9e\\xba\\x18k\\xf1\\x92\\xb2~\\x14\\xcc\\n\\xc1\\xb2\\xa4F\\x13\\x89\\xaa</!7\\xb5\\x03Z\\xcd6\\xbd\\x12\\x04\\xf6\\xd7\\x84\\xbb0\\x14f'\n",
    "iv = b'l\"\\xf8uy\\xeai\\xc2@\\xc4\\xdbPo\\x16w\\x0e'"
   ]
  },
  {
   "cell_type": "code",
   "execution_count": 95,
   "metadata": {
    "vscode": {
     "languageId": "python"
    }
   },
   "outputs": [
    {
     "data": {
      "text/plain": [
       "(100 x 1 dense matrix over Finite Field of size 7,\n",
       " 100 x 1 dense matrix over Finite Field of size 7,\n",
       " 100 x 1 dense matrix over Finite Field of size 7)"
      ]
     },
     "execution_count": 95,
     "metadata": {},
     "output_type": "execute_result"
    }
   ],
   "source": [
    "# apply1(F, s)\n",
    "# len(gen(v, s, F))\n",
    "# t1 = matrix(FF, [FF.random_element() for _ in range(n)]).T\n",
    "# t2 = matrix(FF, [FF.random_element() for _ in range(n)]).T\n",
    "# t1.T * (F[i] + F[i].T) * s - t2.T * (F[i] + F[i].T) * s #==\n",
    "# (t1-t2).T* (F[i] + F[i].T) \n",
    "# s\n",
    "# gen(v, s, F)[0][2]\n",
    "# output[0]"
   ]
  },
  {
   "cell_type": "markdown",
   "metadata": {},
   "source": [
    "Given two samples with the same \\( a \\), say Sample 1 and Sample 2:\n",
    "\n",
    "\\begin{align*}\n",
    "\n",
    "t_1 - a \\cdot s &= tass_1 \\\\\n",
    "t_2 - a \\cdot s &= tass_2 \\\\\n",
    "\\end{align*}\n",
    "\n",
    "\\begin{align}\n",
    "(t_1 - t_2) - a \\cdot s + a \\cdot s = tass_1 - tass_2 \\\\\n",
    "\\implies t_1 - t_2 = tass_1 - tass_2 \\\\\n",
    "\\end{align}\n",
    "\n",
    "\\begin{align*}\n",
    "(t_1 - t_2) = (tass_1 - tass_2)\\\\\n",
    "verif_1 - verif_2 = (t_1 - t_2)^T \\cdot (F[i] + F[i]^T) \\cdot s \\\\\n",
    "\\end{align*}\n"
   ]
  },
  {
   "cell_type": "code",
   "execution_count": 96,
   "metadata": {
    "vscode": {
     "languageId": "python"
    }
   },
   "outputs": [
    {
     "name": "stdout",
     "output_type": "stream",
     "text": [
      "0 7\n"
     ]
    }
   ],
   "source": [
    "# finding pair that have same a\n",
    "# a = sha256(bytes([int(i) for i in com.list() + v.list() + verif.list()])).digest()[0] % q\n",
    "def find_same_a():\n",
    "    for i in range(9):\n",
    "        for j in range(i+1, 9):\n",
    "            com1, verif1 = coms[i], verifs[i]\n",
    "            com2, verif2 = coms[j], verifs[j]\n",
    "            a1 = sha256(bytes([int(i) for i in com1 + v + verif1])).digest()[0] % q\n",
    "            a2 = sha256(bytes([int(i) for i in com2 + v + verif2])).digest()[0] % q\n",
    "            if a1 == a2:\n",
    "                return i, j \n",
    "sample1, sample2 = find_same_a()\n",
    "print(sample1, sample2)\n"
   ]
  },
  {
   "cell_type": "code",
   "execution_count": 97,
   "metadata": {
    "vscode": {
     "languageId": "python"
    }
   },
   "outputs": [
    {
     "data": {
      "text/plain": [
       "100 x 1 dense matrix over Finite Field of size 7 (use the '.str()' method to see the entries)"
      ]
     },
     "execution_count": 97,
     "metadata": {},
     "output_type": "execute_result"
    }
   ],
   "source": [
    "diff_tass = matrix(FF,tass[sample1]) - matrix(FF,tass[sample2])\n",
    "diff_tass = diff_tass.T\n",
    "diff_tass"
   ]
  },
  {
   "cell_type": "code",
   "execution_count": 98,
   "metadata": {
    "vscode": {
     "languageId": "python"
    }
   },
   "outputs": [
    {
     "data": {
      "text/plain": [
       "100 x 1 dense matrix over Finite Field of size 7 (use the '.str()' method to see the entries)"
      ]
     },
     "execution_count": 98,
     "metadata": {},
     "output_type": "execute_result"
    }
   ],
   "source": [
    "diff_verif = matrix(FF,verifs[sample1]) - matrix(FF,verifs[sample2])\n",
    "diff_verif = diff_verif.T\n",
    "diff_verif"
   ]
  },
  {
   "cell_type": "code",
   "execution_count": 99,
   "metadata": {
    "vscode": {
     "languageId": "python"
    }
   },
   "outputs": [],
   "source": [
    "gen_seed = bytes(seed) # random 64 255 bits seed\n",
    "\n",
    "F = []\n",
    "for i in range(m):\n",
    "    cur = []\n",
    "    for j in range(n):\n",
    "        cur.append([])\n",
    "        for k in range(n):\n",
    "            cur[-1].append(sha256(gen_seed).digest()[0] % q)\n",
    "            gen_seed = sha256(gen_seed).digest()\n",
    "    F.append(matrix(FF, n, n, cur))"
   ]
  },
  {
   "cell_type": "code",
   "execution_count": 100,
   "metadata": {
    "vscode": {
     "languageId": "python"
    }
   },
   "outputs": [],
   "source": [
    "ma = diff_tass.T * (F[0] + F[0].T)\n",
    "matrices = [ma]\n",
    "\n",
    "for i in range(1, 100):\n",
    "    matrices.append(diff_tass.T * (F[i] + F[i].T))\n",
    "\n",
    "# Combine all matrices vertically\n",
    "combined_matrix = block_matrix(len(matrices), 1, matrices)\n",
    "\n",
    "result_matrix = combined_matrix.augment(diff_verif)\n",
    "\n",
    "result_matrix=result_matrix.rref()"
   ]
  },
  {
   "cell_type": "code",
   "execution_count": 101,
   "metadata": {
    "vscode": {
     "languageId": "python"
    }
   },
   "outputs": [],
   "source": [
    "s=result_matrix.column(-1)"
   ]
  },
  {
   "cell_type": "code",
   "execution_count": 102,
   "metadata": {
    "vscode": {
     "languageId": "python"
    }
   },
   "outputs": [
    {
     "data": {
      "text/plain": [
       "b'ASCIS{s1Mpl3_l1N3Ar_4lg3Br4_tr1cks}'"
      ]
     },
     "execution_count": 102,
     "metadata": {},
     "output_type": "execute_result"
    }
   ],
   "source": [
    "def decrypt_flag(ct, iv, s):\n",
    "    key = sha256(str([int(i) for i in s.list()]).encode()).digest()\n",
    "    cipher = AES.new(key, AES.MODE_CBC, iv=iv)\n",
    "    return unpad(cipher.decrypt(ct), 16)\n",
    "decrypt_flag(ct, iv, s)"
   ]
  }
 ],
 "metadata": {
  "kernelspec": {
   "display_name": "SageMath 10.4",
   "language": "sage",
   "name": "sagemath"
  },
  "language_info": {
   "codemirror_mode": {
    "name": "ipython",
    "version": 3
   },
   "file_extension": ".py",
   "mimetype": "text/x-python",
   "name": "sage",
   "nbconvert_exporter": "python",
   "pygments_lexer": "ipython3",
   "version": "3.10.12"
  }
 },
 "nbformat": 4,
 "nbformat_minor": 2
}
