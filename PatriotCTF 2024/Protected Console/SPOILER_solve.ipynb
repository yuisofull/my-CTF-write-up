{
 "cells": [
  {
   "cell_type": "code",
   "execution_count": 175,
   "metadata": {},
   "outputs": [
    {
     "name": "stdout",
     "output_type": "stream",
     "text": [
      "[x] Opening connection to localhost on port 1337\n",
      "[x] Opening connection to localhost on port 1337: Trying ::1\n",
      "[x] Opening connection to localhost on port 1337: Trying 127.0.0.1\n",
      "[+] Opening connection to localhost on port 1337: Done\n",
      "Example: b'b\\xa1\\xd7\\xf4\\x87\\x1e\\xbd\\xd0\\xb9\\xf8j\\xbbP\\xd6\\xb9\\xb0\\xdf\\n\\xe0\\xf3<x2\\xcf\\x1d+=\\xf6\\x7feV\\xfd`L\\x88UK=\\xeaM\\xc4*\\x042\\xd3c\\xfc\\xbfb)\\x1dMJ\\x8fx\\xfd7B3\\x81>\\xe4\\xb3\\xdc'\n"
     ]
    }
   ],
   "source": [
    "from pwn import *\n",
    "from Crypto.Cipher import AES\n",
    "from Crypto.Util.Padding import pad, unpad\n",
    "import os\n",
    "key = os.urandom(16)\n",
    "guest = b\"{'username':'guest_user','role':0}\"\n",
    "def encrypt(key, iv, data):\n",
    "       cipher = AES.new(key, AES.MODE_CBC, iv)\n",
    "       return cipher.encrypt(pad(data, 16))\n",
    "\n",
    "def decrypt(key,token):\n",
    "      iv = token[:16]\n",
    "      ct = token[16:]\n",
    "      cipher = AES.new(key, AES.MODE_CBC, iv)\n",
    "      dec = cipher.decrypt(ct)\n",
    "      return dec\n",
    "\n",
    "#iv = os.urandom(16)\n",
    "#example = iv + encrypt(key, iv, guest)\n",
    "r = remote(\"chal.pctf.competitivecyber.club\", 6002)\n",
    "#r = remote(\"localhost\", 1337)\n",
    "r.recvuntil(b\"Guest: \")\n",
    "example = bytes.fromhex(r.recvline().strip().decode())\n",
    "print(f\"Example: {example}\")"
   ]
  },
  {
   "cell_type": "code",
   "execution_count": 176,
   "metadata": {},
   "outputs": [
    {
     "name": "stdout",
     "output_type": "stream",
     "text": [
      "Example blocks: 4\n",
      "Actual blocks: 3\n",
      "Target blocks: 3\n",
      "Deltas: 3\n"
     ]
    }
   ],
   "source": [
    "example_blocks = [example[i:i+16] for i in range(0, len(example), 16)]\n",
    "print(f\"Example blocks: {len(example_blocks)}\")\n",
    "# iv | b1 | b2 | b3\n",
    "\n",
    "actual_blocks = [guest[i:i+16] for i in range(0, len(pad(guest,16)), 16)]\n",
    "print(f\"Actual blocks: {len(actual_blocks)}\")\n",
    "\n",
    "target = b\"{\\\"username\\\":\\\"administrative_user\\\",\\\"role\\\":1}\"\n",
    "target_blocks = [target[i:i+16] for i in range(0, len(target), 16)]\n",
    "print(f\"Target blocks: {len(target_blocks)}\")\n",
    "\n",
    "deltas = []\n",
    "for i in range(len(target_blocks)):\n",
    "    deltas.append(xor(target_blocks[i], actual_blocks[i]))\n",
    "\n",
    "print(f\"Deltas: {len(deltas)}\")"
   ]
  },
  {
   "cell_type": "code",
   "execution_count": 177,
   "metadata": {},
   "outputs": [],
   "source": [
    "def padding_oracle(ciphertext):\n",
    "    r.sendlineafter(b\"): \", ciphertext.hex())\n",
    "    result = r.recvuntil(b\"Access token \")\n",
    "    if b\"Error\" in result and b\"Input\" not in result:\n",
    "        return False\n",
    "    return True\n",
    "#def padding_oracle(ciphertext):\n",
    "#    dec = decrypt(key, ciphertext)\n",
    "#    try:\n",
    "#        unpad(dec, 16)\n",
    "#        return True\n",
    "#    except:\n",
    "#        return False    "
   ]
  },
  {
   "cell_type": "code",
   "execution_count": 178,
   "metadata": {},
   "outputs": [],
   "source": [
    "def leak_char(data, known, tqdm = __import__('tqdm').tqdm):\n",
    "    padding_chr = len(known) + 1\n",
    "    data = data[-32:]\n",
    "    last_block = data[-16:]\n",
    "    target_block = data[:-16]\n",
    "    # set known to padding character\n",
    "    last_adjust = xor(known, bytes([padding_chr]*len(known)))\n",
    "    target_block = xor(target_block, b'\\x00'*(16-len(last_adjust)) + last_adjust)\n",
    "    target_idx = 15 - len(known)\n",
    "    r = range(256)\n",
    "    for i in tqdm(r):\n",
    "        query_block = target_block[:target_idx] + bytes([i^target_block[target_idx]]) + target_block[target_idx+1:]\n",
    "        if padding_oracle(query_block + last_block): # pre we can technically ignore!\n",
    "            found = padding_chr ^ i\n",
    "            return bytes([found])\n",
    "    return None"
   ]
  },
  {
   "cell_type": "code",
   "execution_count": 179,
   "metadata": {},
   "outputs": [],
   "source": [
    "def leak_block(data, verbose = True):\n",
    "    known = b\"\"\n",
    "    while len(known) < 16:\n",
    "        next = leak_char(data, known)\n",
    "        if next is None:\n",
    "            known = known[:-1] + bytes([known[-1] ^ 1])\n",
    "            continue\n",
    "        known = next + known\n",
    "        if verbose:\n",
    "            print(f\"Known: {known}\")\n",
    "    return known"
   ]
  },
  {
   "cell_type": "code",
   "execution_count": 180,
   "metadata": {},
   "outputs": [
    {
     "name": "stdout",
     "output_type": "stream",
     "text": [
      "Known: b'\\x03'\n",
      "Known: b'\\x9e\\x03'\n",
      "Known: b'o\\x9e\\x03'\n",
      "Known: b'Uo\\x9e\\x03'\n",
      "Known: b'\\x1cUo\\x9e\\x03'\n",
      "Known: b'U\\x1cUo\\x9e\\x03'\n",
      "Known: b'\\xa7U\\x1cUo\\x9e\\x03'\n",
      "Known: b'\\x1f\\xa7U\\x1cUo\\x9e\\x03'\n",
      "Known: b'X\\x1f\\xa7U\\x1cUo\\x9e\\x03'\n",
      "Known: b'\\xd4X\\x1f\\xa7U\\x1cUo\\x9e\\x03'\n"
     ]
    },
    {
     "name": "stderr",
     "output_type": "stream",
     "text": [
      "/var/folders/5r/8j0pby456mv_p468967_cfk00000gn/T/ipykernel_75784/1442626586.py:2: BytesWarning: Text is not bytes; assuming ASCII, no guarantees. See https://docs.pwntools.com/#bytes\n",
      "  r.sendlineafter(b\"): \", ciphertext.hex())\n"
     ]
    },
    {
     "name": "stdout",
     "output_type": "stream",
     "text": [
      "Known: b'O\\xd4X\\x1f\\xa7U\\x1cUo\\x9e\\x03'\n",
      "Known: b'\\x00O\\xd4X\\x1f\\xa7U\\x1cUo\\x9e\\x03'\n",
      "Known: b'\"\\x00O\\xd4X\\x1f\\xa7U\\x1cUo\\x9e\\x03'\n",
      "Known: b'\\x14\"\\x00O\\xd4X\\x1f\\xa7U\\x1cUo\\x9e\\x03'\n",
      "Known: b'\\xe4\\x14\"\\x00O\\xd4X\\x1f\\xa7U\\x1cUo\\x9e\\x03'\n",
      "Known: b'\\x91\\xe4\\x14\"\\x00O\\xd4X\\x1f\\xa7U\\x1cUo\\x9e\\x03'\n",
      "Known: b'\\xc9'\n",
      "Known: b'\\xdd\\xc9'\n",
      "Known: b'\\xb9\\xdd\\xc9'\n",
      "Known: b',\\xb9\\xdd\\xc9'\n",
      "Known: b'7,\\xb9\\xdd\\xc9'\n",
      "Known: b'!7,\\xb9\\xdd\\xc9'\n",
      "Known: b'\\xfd!7,\\xb9\\xdd\\xc9'\n",
      "Known: b'u\\xfd!7,\\xb9\\xdd\\xc9'\n",
      "Known: b'\\x02u\\xfd!7,\\xb9\\xdd\\xc9'\n",
      "Known: b'\\xef\\x02u\\xfd!7,\\xb9\\xdd\\xc9'\n",
      "Known: b'\\x92\\xef\\x02u\\xfd!7,\\xb9\\xdd\\xc9'\n",
      "Known: b'T\\x92\\xef\\x02u\\xfd!7,\\xb9\\xdd\\xc9'\n",
      "Known: b'JT\\x92\\xef\\x02u\\xfd!7,\\xb9\\xdd\\xc9'\n",
      "Known: b'\\xd5JT\\x92\\xef\\x02u\\xfd!7,\\xb9\\xdd\\xc9'\n",
      "Known: b'H\\xd5JT\\x92\\xef\\x02u\\xfd!7,\\xb9\\xdd\\xc9'\n",
      "Known: b'\\x19H\\xd5JT\\x92\\xef\\x02u\\xfd!7,\\xb9\\xdd\\xc9'\n"
     ]
    }
   ],
   "source": [
    "\n",
    "# flashback to when i made the deltas\n",
    "example_blocks[2] = xor(xor(xor(example_blocks[2], deltas[2])),b'\\x00\\x00>s>s>s>s>\\x19Z\\x19\\x04T')\n",
    "\n",
    "# leak second block\n",
    "b2 = leak_block(example_blocks[1] + example_blocks[2])\n",
    "\n",
    "# fix b1\n",
    "example_blocks[1] = xor(b2, target_blocks[1], example_blocks[1])\n",
    "\n",
    "# leak first block\n",
    "b1 = leak_block(example_blocks[0] + example_blocks[1])\n",
    "# fix iv\n",
    "example_blocks[0] = xor(b1, target_blocks[0], example_blocks[0])\n"
   ]
  },
  {
   "cell_type": "code",
   "execution_count": 181,
   "metadata": {},
   "outputs": [
    {
     "name": "stdout",
     "output_type": "stream",
     "text": [
      "Flag: pctf{test}\n"
     ]
    },
    {
     "name": "stderr",
     "output_type": "stream",
     "text": [
      "/var/folders/5r/8j0pby456mv_p468967_cfk00000gn/T/ipykernel_75784/2860667851.py:1: BytesWarning: Text is not bytes; assuming ASCII, no guarantees. See https://docs.pwntools.com/#bytes\n",
      "  r.sendline(b\"\".join(example_blocks).hex())\n",
      "/var/folders/5r/8j0pby456mv_p468967_cfk00000gn/T/ipykernel_75784/2860667851.py:2: BytesWarning: Text is not bytes; assuming ASCII, no guarantees. See https://docs.pwntools.com/#bytes\n",
      "  r.recvuntil(\" Example: \")\n",
      "/var/folders/5r/8j0pby456mv_p468967_cfk00000gn/T/ipykernel_75784/2860667851.py:6: BytesWarning: Text is not bytes; assuming ASCII, no guarantees. See https://docs.pwntools.com/#bytes\n",
      "  r.sendline(new_data.hex())\n"
     ]
    }
   ],
   "source": [
    "r.sendline(b\"\".join(example_blocks).hex())\n",
    "r.recvuntil(\" Example: \")\n",
    "cmd_enc = bytes.fromhex(r.recvline().strip().decode())\n",
    "differential = xor(pad(b\"print(1337)\", 16), pad(b\"print(flag)\", 16))\n",
    "new_data = xor(cmd_enc, differential + b\"\\x00\"*16)\n",
    "r.sendline(new_data.hex())\n",
    "r.recvuntil(b\"pctf{\")\n",
    "flag = r.recvuntil(b\"}\")\n",
    "print(f\"Flag: pctf{{{flag.decode()}}}\"[:-1])\n"
   ]
  }
 ],
 "metadata": {
  "kernelspec": {
   "display_name": "patriot",
   "language": "python",
   "name": "python3"
  },
  "language_info": {
   "codemirror_mode": {
    "name": "ipython",
    "version": 3
   },
   "file_extension": ".py",
   "mimetype": "text/x-python",
   "name": "python",
   "nbconvert_exporter": "python",
   "pygments_lexer": "ipython3",
   "version": "3.10.14"
  }
 },
 "nbformat": 4,
 "nbformat_minor": 2
}
